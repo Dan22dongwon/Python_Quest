{
  "nbformat": 4,
  "nbformat_minor": 0,
  "metadata": {
    "colab": {
      "provenance": [],
      "authorship_tag": "ABX9TyOsuTSr+DYrIwKQOYbmq3ah",
      "include_colab_link": true
    },
    "kernelspec": {
      "name": "python3",
      "display_name": "Python 3"
    },
    "language_info": {
      "name": "python"
    }
  },
  "cells": [
    {
      "cell_type": "markdown",
      "metadata": {
        "id": "view-in-github",
        "colab_type": "text"
      },
      "source": [
        "<a href=\"https://colab.research.google.com/github/hyeong777/colab-/blob/main/%ED%80%98%EC%8A%A4%ED%8A%B81(%EC%88%98%EC%A0%95%EB%B3%B8).ipynb\" target=\"_parent\"><img src=\"https://colab.research.google.com/assets/colab-badge.svg\" alt=\"Open In Colab\"/></a>"
      ]
    },
    {
      "cell_type": "code",
      "execution_count": 1,
      "metadata": {
        "colab": {
          "base_uri": "https://localhost:8080/"
        },
        "id": "XroUn_belG08",
        "outputId": "b32cb728-7d05-4617-be83-252d3a7e6ca3"
      },
      "outputs": [
        {
          "output_type": "stream",
          "name": "stdout",
          "text": [
            "단어를 말하세요: 우영우\n",
            "똑바로 읽어도 우영우\n",
            "거꾸로 읽어도 우영우\n",
            "입력된 단어는 회문입니다.\n"
          ]
        }
      ],
      "source": [
        "word = str(input(\"단어를 말하세요: \"))\n",
        "backword = word[::-1]\n",
        "print(\"똑바로 읽어도 {0}\".format(word))\n",
        "print(\"거꾸로 읽어도 {0}\".format(backword))\n",
        "if word == backword:\n",
        "  print(\"입력된 단어는 회문입니다.\")\n",
        "else:\n",
        "  print(\"입력된 단어는 회문이 아닙니다.\")"
      ]
    }
  ]
}