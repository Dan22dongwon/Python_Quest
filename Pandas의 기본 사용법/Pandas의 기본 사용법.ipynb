{
  "nbformat": 4,
  "nbformat_minor": 0,
  "metadata": {
    "colab": {
      "name": "Pandas의 기본 사용법",
      "provenance": [],
      "include_colab_link": true
    },
    "kernelspec": {
      "name": "python3",
      "display_name": "Python 3"
    }
  },
  "cells": [
    {
      "cell_type": "markdown",
      "metadata": {
        "id": "view-in-github",
        "colab_type": "text"
      },
      "source": [
        "<a href=\"https://colab.research.google.com/github/Dan22dongwon/colab-/blob/main/Pandas%EC%9D%98%20%EA%B8%B0%EB%B3%B8%20%EC%82%AC%EC%9A%A9%EB%B2%95/Pandas%EC%9D%98%20%EA%B8%B0%EB%B3%B8%20%EC%82%AC%EC%9A%A9%EB%B2%95.ipynb\" target=\"_parent\"><img src=\"https://colab.research.google.com/assets/colab-badge.svg\" alt=\"Open In Colab\"/></a>"
      ]
    },
    {
      "cell_type": "markdown",
      "metadata": {
        "id": "g_qGzFhNA5x-"
      },
      "source": [
        "## Pandas의 기본 사용법\n",
        "[강의 노트](https://github.com/ndb796/Python-Data-Analysis-and-Image-Processing-Tutorial/blob/master/23.%20Pandas%EC%9D%98%20%EA%B8%B0%EB%B3%B8%20%EC%82%AC%EC%9A%A9%EB%B2%95/Python%20%EB%8D%B0%EC%9D%B4%ED%84%B0%20%EB%B6%84%EC%84%9D%EA%B3%BC%20%EC%9D%B4%EB%AF%B8%EC%A7%80%20%EC%B2%98%EB%A6%AC%20-%20Pandas%EC%9D%98%20%EA%B8%B0%EB%B3%B8%20%EC%82%AC%EC%9A%A9%EB%B2%95.pdf)"
      ]
    },
    {
      "cell_type": "markdown",
      "metadata": {
        "id": "JYBA7x_89t4v"
      },
      "source": [
        "판다스(Pandas)란?\n",
        "\n",
        "* 데이터를 효과적으로 처리하고, 보여줄 수 있도록 도와주는 라이브러리입니다.\n",
        "* Numpy와 함께 사용되어 다양한 연계적인 기능을 제공합니다.\n",
        "* 인덱스(Index)에 따라 데이터를 나열하므로 사전(Dictionary) 자료형에 가깝습니다.\n",
        "* 시리즈(Series)를 기본적인 자료형으로 사용합니다."
      ]
    },
    {
      "cell_type": "markdown",
      "metadata": {
        "id": "RvboRG8H-kfX"
      },
      "source": [
        "시리즈(Series)\n",
        "\n",
        "* 시리즈는 인덱스와 값으로 구성됩니다."
      ]
    },
    {
      "cell_type": "code",
      "metadata": {
        "id": "kRry_1gL94X0",
        "colab": {
          "base_uri": "https://localhost:8080/",
          "height": 105
        },
        "outputId": "c81263ae-e56a-4b2b-813e-0b600a6ea731"
      },
      "source": [
        "import pandas as pd\n",
        "\n",
        "array = pd.Series(['사과', '바나나', '당근'], index=['a', 'b', 'c'])\n",
        "\n",
        "print(array)\n",
        "print(array['a'])"
      ],
      "execution_count": null,
      "outputs": [
        {
          "output_type": "stream",
          "text": [
            "a     사과\n",
            "b    바나나\n",
            "c     당근\n",
            "dtype: object\n",
            "사과\n"
          ],
          "name": "stdout"
        }
      ]
    },
    {
      "cell_type": "code",
      "metadata": {
        "id": "MUNlX3fM_Ltc",
        "colab": {
          "base_uri": "https://localhost:8080/",
          "height": 34
        },
        "outputId": "605b0093-3989-4c30-dd73-f285b0e7e79b"
      },
      "source": [
        "import pandas as pd\n",
        "\n",
        "data = {\n",
        "    'a': '사과',\n",
        "    'b': '바나나',\n",
        "    'c': '당근'\n",
        "}\n",
        "\n",
        "# Dict 자료형을 Series로 바꾸기\n",
        "array = pd.Series(data)\n",
        "print(array['a'])"
      ],
      "execution_count": null,
      "outputs": [
        {
          "output_type": "stream",
          "text": [
            "사과\n"
          ],
          "name": "stdout"
        }
      ]
    },
    {
      "cell_type": "markdown",
      "metadata": {
        "id": "BebUzbhf9dc8"
      },
      "source": [
        "데이터 프레임\n",
        "\n",
        "* 다수의 시리즈(Series)를 모아 처리하기 위한 목적으로 사용합니다.\n",
        "* 표 형태로 데이터를 손쉽게 출력하고자 할 때 사용할 수 있습니다."
      ]
    },
    {
      "cell_type": "code",
      "metadata": {
        "id": "M7aEDgr6-Pdd",
        "colab": {
          "base_uri": "https://localhost:8080/",
          "height": 87
        },
        "outputId": "eca8df7f-5bd7-4853-872d-1512eb9fa1aa"
      },
      "source": [
        "import pandas as pd\n",
        "\n",
        "word_dict = {\n",
        "    'Apple': '사과',\n",
        "    'Banana': '바나나',\n",
        "    'Carrot': '당근'\n",
        "}\n",
        "\n",
        "frequency_dict = {\n",
        "    'Apple': 3,\n",
        "    'Banana': 5,\n",
        "    'Carrot': 7\n",
        "}\n",
        "\n",
        "word = pd.Series(word_dict)\n",
        "frequency = pd.Series(frequency_dict)\n",
        "\n",
        "# 이름(Name): 값(Values)\n",
        "summary = pd.DataFrame({\n",
        "    'word': word,\n",
        "    'frequency': frequency\n",
        "})\n",
        "\n",
        "print(summary)"
      ],
      "execution_count": null,
      "outputs": [
        {
          "output_type": "stream",
          "text": [
            "       word  frequency\n",
            "Apple    사과          3\n",
            "Banana  바나나          5\n",
            "Carrot   당근          7\n"
          ],
          "name": "stdout"
        }
      ]
    },
    {
      "cell_type": "markdown",
      "metadata": {
        "id": "2jBuI3CK9dfo"
      },
      "source": [
        "시리즈의 연산\n",
        "\n",
        "* 시리즈를 서로 연산하여 새로운 시리즈를 만들 수 있습니다.\n",
        "\n",
        "![image.png](data:image/png;base64,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)"
      ]
    },
    {
      "cell_type": "markdown",
      "metadata": {
        "id": "oQhge3h8AB6k"
      },
      "source": [
        "**시리즈의 연산**"
      ]
    },
    {
      "cell_type": "code",
      "metadata": {
        "id": "FGmOOXeJ_XBD",
        "colab": {
          "base_uri": "https://localhost:8080/",
          "height": 87
        },
        "outputId": "804942b6-e3fd-4e96-f9f3-158f28cc2cd9"
      },
      "source": [
        "import pandas as pd\n",
        "\n",
        "word_dict = {\n",
        "    'Apple': '사과',\n",
        "    'Banana': '바나나',\n",
        "    'Carrot': '당근'\n",
        "}\n",
        "\n",
        "frequency_dict = {\n",
        "    'Apple': 3,\n",
        "    'Banana': 5,\n",
        "    'Carrot': 7\n",
        "}\n",
        "\n",
        "importance_dict = {\n",
        "    'Apple': 3,\n",
        "    'Banana': 2,\n",
        "    'Carrot': 1\n",
        "}\n",
        "\n",
        "word = pd.Series(word_dict)\n",
        "frequency = pd.Series(frequency_dict)\n",
        "importance = pd.Series(importance_dict)\n",
        "\n",
        "summary = pd.DataFrame({\n",
        "    'word': word,\n",
        "    'frequency': frequency,\n",
        "    'importance': importance\n",
        "})\n",
        "\n",
        "score = summary['frequency'] * summary['importance']\n",
        "summary['score'] = score\n",
        "\n",
        "print(summary)"
      ],
      "execution_count": null,
      "outputs": [
        {
          "output_type": "stream",
          "text": [
            "       word  frequency  importance  score\n",
            "Apple    사과          3           3      9\n",
            "Banana  바나나          5           2     10\n",
            "Carrot   당근          7           1      7\n"
          ],
          "name": "stdout"
        }
      ]
    },
    {
      "cell_type": "markdown",
      "metadata": {
        "id": "knnOXhACADjD"
      },
      "source": [
        "**데이터 프레임의 슬라이싱**"
      ]
    },
    {
      "cell_type": "code",
      "metadata": {
        "id": "xvnoR_Hb_8rW",
        "colab": {
          "base_uri": "https://localhost:8080/",
          "height": 210
        },
        "outputId": "c2abc2ec-5e66-4722-df26-11f41f347a43"
      },
      "source": [
        "import pandas as pd\n",
        "\n",
        "word_dict = {\n",
        "    'Apple': '사과',\n",
        "    'Banana': '바나나',\n",
        "    'Carrot': '당근',\n",
        "    'Durian': '두리안'\n",
        "}\n",
        "\n",
        "frequency_dict = {\n",
        "    'Apple': 3,\n",
        "    'Banana': 5,\n",
        "    'Carrot': 7,\n",
        "    'Durian': 2\n",
        "}\n",
        "\n",
        "importance_dict = {\n",
        "    'Apple': 3,\n",
        "    'Banana': 2,\n",
        "    'Carrot': 1,\n",
        "    'Durian': 1\n",
        "}\n",
        "\n",
        "word = pd.Series(word_dict)\n",
        "frequency = pd.Series(frequency_dict)\n",
        "importance = pd.Series(importance_dict)\n",
        "\n",
        "summary = pd.DataFrame({\n",
        "    'word': word,\n",
        "    'frequency': frequency,\n",
        "    'importance': importance\n",
        "})\n",
        "\n",
        "print(summary)\n",
        "\n",
        "# 이름을 기준으로 슬라이싱\n",
        "print(summary.loc['Banana':'Carrot', 'importance':])\n",
        "\n",
        "# 인덱스를 기준으로 슬라이싱\n",
        "print(summary.iloc[1:3, 2:])"
      ],
      "execution_count": null,
      "outputs": [
        {
          "output_type": "stream",
          "text": [
            "       word  frequency  importance\n",
            "Apple    사과          3           3\n",
            "Banana  바나나          5           2\n",
            "Carrot   당근          7           1\n",
            "Durian  두리안          2           1\n",
            "        importance\n",
            "Banana           2\n",
            "Carrot           1\n",
            "        importance\n",
            "Banana           2\n",
            "Carrot           1\n"
          ],
          "name": "stdout"
        }
      ]
    },
    {
      "cell_type": "markdown",
      "metadata": {
        "id": "eevLJi6sAe1U"
      },
      "source": [
        "**데이터 프레임의 연산**"
      ]
    },
    {
      "cell_type": "code",
      "metadata": {
        "id": "4ZeRZTHFAhgc",
        "colab": {
          "base_uri": "https://localhost:8080/",
          "height": 210
        },
        "outputId": "2a242add-e466-475e-b740-2edd717c10ee"
      },
      "source": [
        "import pandas as pd\n",
        "\n",
        "word_dict = {\n",
        "    'Apple': '사과',\n",
        "    'Banana': '바나나',\n",
        "    'Carrot': '당근',\n",
        "    'Durian': '두리안'\n",
        "}\n",
        "\n",
        "frequency_dict = {\n",
        "    'Apple': 3,\n",
        "    'Banana': 5,\n",
        "    'Carrot': 7,\n",
        "    'Durian': 2\n",
        "}\n",
        "\n",
        "importance_dict = {\n",
        "    'Apple': 3,\n",
        "    'Banana': 2,\n",
        "    'Carrot': 1,\n",
        "    'Durian': 1\n",
        "}\n",
        "\n",
        "word = pd.Series(word_dict)\n",
        "frequency = pd.Series(frequency_dict)\n",
        "importance = pd.Series(importance_dict)\n",
        "\n",
        "summary = pd.DataFrame({\n",
        "    'word': word,\n",
        "    'frequency': frequency,\n",
        "    'importance': importance\n",
        "})\n",
        "\n",
        "print(summary)\n",
        "\n",
        "summary.loc['Apple', 'importance'] = 5 # 데이터의 변경\n",
        "summary.loc['Elderberry'] = ['엘더베리', 5, 3] # 새 데이터 삽입\n",
        "\n",
        "print(summary)"
      ],
      "execution_count": null,
      "outputs": [
        {
          "output_type": "stream",
          "text": [
            "       word  frequency  importance\n",
            "Apple    사과          3           3\n",
            "Banana  바나나          5           2\n",
            "Carrot   당근          7           1\n",
            "Durian  두리안          2           1\n",
            "            word  frequency  importance\n",
            "Apple         사과          3           5\n",
            "Banana       바나나          5           2\n",
            "Carrot        당근          7           1\n",
            "Durian       두리안          2           1\n",
            "Elderberry  엘더베리          5           3\n"
          ],
          "name": "stdout"
        }
      ]
    },
    {
      "cell_type": "markdown",
      "metadata": {
        "id": "TXIdbF6uAsVc"
      },
      "source": [
        "**엑셀로 내보내기/불러오기**"
      ]
    },
    {
      "cell_type": "code",
      "metadata": {
        "id": "hB7XlpIlAoNe",
        "colab": {
          "base_uri": "https://localhost:8080/",
          "height": 87
        },
        "outputId": "aa6619a8-d56b-4fa7-8338-5ac0a1188ad7"
      },
      "source": [
        "import pandas as pd\n",
        "\n",
        "word_dict = {\n",
        "    'Apple': '사과',\n",
        "    'Banana': '바나나',\n",
        "    'Carrot': '당근'\n",
        "}\n",
        "\n",
        "frequency_dict = {\n",
        "    'Apple': 3,\n",
        "    'Banana': 5,\n",
        "    'Carrot': 7\n",
        "}\n",
        "\n",
        "word = pd.Series(word_dict)\n",
        "frequency = pd.Series(frequency_dict)\n",
        "\n",
        "summary = pd.DataFrame({\n",
        "    'word': word,\n",
        "    'frequency': frequency\n",
        "})\n",
        "\n",
        "summary.to_csv(\"summary.csv\", encoding=\"utf-8-sig\")\n",
        "saved = pd.read_csv(\"summary.csv\", index_col=0)\n",
        "print(saved)"
      ],
      "execution_count": null,
      "outputs": [
        {
          "output_type": "stream",
          "text": [
            "       word  frequency\n",
            "Apple    사과          3\n",
            "Banana  바나나          5\n",
            "Carrot   당근          7\n"
          ],
          "name": "stdout"
        }
      ]
    }
  ]
}