{
  "nbformat": 4,
  "nbformat_minor": 0,
  "metadata": {
    "colab": {
      "private_outputs": true,
      "provenance": [],
      "authorship_tag": "ABX9TyPf1RpIabaRE+8adbFSRii4",
      "include_colab_link": true
    },
    "kernelspec": {
      "name": "python3",
      "display_name": "Python 3"
    },
    "language_info": {
      "name": "python"
    }
  },
  "cells": [
    {
      "cell_type": "markdown",
      "metadata": {
        "id": "view-in-github",
        "colab_type": "text"
      },
      "source": [
        "<a href=\"https://colab.research.google.com/github/Dan22dongwon/Python_Quest/blob/main/(%EB%B0%95%EB%8F%99%EC%9B%90)%EB%82%98%EB%A7%8C%EC%9D%98_%ED%82%A4%EC%98%A4%EC%8A%A4%ED%81%AC_%EB%A7%8C%EB%93%A4%EA%B8%B0.ipynb\" target=\"_parent\"><img src=\"https://colab.research.google.com/assets/colab-badge.svg\" alt=\"Open In Colab\"/></a>"
      ]
    },
    {
      "cell_type": "code",
      "execution_count": null,
      "metadata": {
        "id": "wLZL-eydJlkv"
      },
      "outputs": [],
      "source": [
        "# 문제 3-3. 클래스 업데이트  \n",
        "# 앞에서 구현했던 메서드들을 Kiosk 클래스에 추가합니다. 직접 코드를 작성해 보세요! \n",
        "menu = ['americano', 'latte', 'mocha', 'yuza_tea', 'green_tea', 'choco_latte']\n",
        "price = [2000, 3000, 3000, 2500, 2500, 3000]\n",
        "\n",
        "class Kiosk:\n",
        "    def __init__(self):\n",
        "        self.menu = menu\n",
        "        self.price = price\n",
        "\n",
        "    # 메뉴 출력 메서드\n",
        "    def menu_print(self):\n",
        "        for i in range(len(self.menu)):\n",
        "            print(i+1, self.menu[i], ' : ', self.price[i], '원')\n",
        "    \n",
        "    #메뉴선택 메서드\n",
        "    def menu_select(self):\n",
        "        self.order_menu = []  # 주문 리스트\n",
        "        self.order_price = []  # 가격 리스트\n",
        "\n",
        "        n = 0\n",
        "        while n < 1 or len(self.menu) < n:\n",
        "            n = int(input(\"음료를 번호를 입력하세요: \"))  # 음료 번호 입력\n",
        "\n",
        "            if 1 <= n <= len(self.menu):\n",
        "                self.order_price.append(self.price[n-1])\n",
        "                self.price_sum = self.price[n-1]\n",
        "            else:  \n",
        "                print(\"없는 메뉴입니다. 다시 주문해 주세요.\")\n",
        "\n",
        "        t = 0\n",
        "        while t != 1 and t != 2:\n",
        "            t = int(input(\"HOT 음료는 1을, ICE 음료는 2를 입력하세요: \"))\n",
        "            if t == 1:\n",
        "                self.temp = \"HOT\"\n",
        "            elif t == 2:\n",
        "                self.temp = \"ICE\"\n",
        "            else:    \n",
        "                print(\"1과 2 중 하나를 입력하세요.\\n\")\n",
        "\n",
        "        self.order_menu.append(self.temp + ' ' + self.menu[n-1])\n",
        "\n",
        "        print(self.temp, self.menu[n-1], ' : ', self.price[n-1], '원')\n",
        "\n",
        "        while n != 0:\n",
        "            print()\n",
        "            n = int(input(\"추가 주문은 음료 번호를, 지불은 0을 누르세요: \"))\n",
        "            if n > 0 and n < len(self.menu) + 1: \n",
        "                t = 0\n",
        "                while t != 1 and t != 2:\n",
        "                    t = int(input(\"추가 음료의 온도를 입력하세요: \"))\n",
        "                    if t == 1:\n",
        "                        self.temp = \"HOT\"\n",
        "                    elif t == 2:\n",
        "                        self.temp = \"ICE\"\n",
        "                    else:\n",
        "                        print(\"1과 2 중 하나를 입력하세요.\\n\")\n",
        "            \n",
        "                self.order_price.append(self.price[n-1])\n",
        "                self.order_menu.append(self.temp + ' ' + self.menu[n-1])\n",
        "                self.price_sum += self.price[n-1]\n",
        "\n",
        "                print('추가 주문 음료', self.temp, self.menu[n-1], ':', self.price[n-1], '원\\n', '합계:', self.price_sum, '원')\n",
        "            else:\n",
        "                if n == 0:\n",
        "                    print(\"주문이 완료되었습니다.\")\n",
        "                    print(self.order_menu, self.order_price)\n",
        "                else:\n",
        "                    print(\"없는 메뉴입니다. 다시 주문해 주세요.\")\n",
        "\n",
        "    \n",
        "\n",
        "    # 지불\n",
        "    def pay(self):\n",
        "        print(f'합계주문은 {self.price_sum}원 입니다')\n",
        "        self.pay_method = 0\n",
        "        while self.pay_method != 1 and self.pay_method != 2:\n",
        "            self.pay_method = int(input('현금결제는 1번, 카드 결제는 2번을 입력 해주세요. :'))\n",
        "            if self.pay_method ==1:\n",
        "                print('직원을 호출하겠습니다.')\n",
        "            elif self.pay_method ==2:\n",
        "                print('IC칩 방향에 맞게 카드를 꽂아 주세요')\n",
        "            else:\n",
        "                print('다시 결제를 시도 해주세요')\n",
        "        \n",
        "\n",
        "    # 주문서 출력 \n",
        "    def table(self):\n",
        "       # 외곽\n",
        "       print('⟝' + '-' * 30 + '⟞')\n",
        "\n",
        "       # 주문 상품명 : 해당 금액\n",
        "       for i in range(len(self.order_menu)):\n",
        "           print(self.order_menu[i], ' : ', self.order_price[i])\n",
        " \n",
        "       print('합계 금액 :', self.price_sum)\n",
        "\n",
        "       # 외곽\n",
        "       print('⟝' + '-' * 30 + '⟞')"
      ]
    },
    {
      "cell_type": "code",
      "source": [
        "a = Kiosk()  # 객체 생성 \n",
        "a.menu_print()  # 메뉴 출력\n",
        "a.menu_select()  # 주문\n",
        "a.pay()  # 지불\n",
        "a.table()  # 주문표 출력"
      ],
      "metadata": {
        "id": "2mnUFh7aKB22"
      },
      "execution_count": null,
      "outputs": []
    }
  ]
}