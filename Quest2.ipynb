{
  "nbformat": 4,
  "nbformat_minor": 0,
  "metadata": {
    "colab": {
      "provenance": [],
      "include_colab_link": true
    },
    "kernelspec": {
      "name": "python3",
      "display_name": "Python 3"
    },
    "language_info": {
      "name": "python"
    }
  },
  "cells": [
    {
      "cell_type": "markdown",
      "metadata": {
        "id": "view-in-github",
        "colab_type": "text"
      },
      "source": [
        "<a href=\"https://colab.research.google.com/github/hyeong777/colab-/blob/main/Quest2.ipynb\" target=\"_parent\"><img src=\"https://colab.research.google.com/assets/colab-badge.svg\" alt=\"Open In Colab\"/></a>"
      ]
    },
    {
      "cell_type": "markdown",
      "source": [
        "* 2차원 리스트란? : https://dojang.io/mod/page/view.php?id=2291\n",
        "\n",
        "다음은 ColabTurtle을 사용하여 미로를 찾는 문제다.\n",
        "조건을 확인하여 거북이가 미로를 헤매지 않도록 출구를 찾아주자!\n",
        "\n",
        "조건 :\n",
        "미로는 5x5의 2차원 리스트로 주어져 있다.\n",
        "\n",
        "시작 위치는 (0,0)이고 목적지 위치는 (4,4)이다.\n",
        "\n",
        "터틀은 상하좌우로 움직일 수 있다.\n",
        "\n",
        "미로 내에서 갈 수 있는 길은 0으로 표시되어 있다.\n",
        "\n",
        "터틀이 이미 지나간 길은 2로 표시해야한다.\n",
        "\n",
        "거북이가 미로를 찾아 나가면 \"미로를 찾았습니다.\", \n",
        "\n",
        "미로를 찾을 수 없으면 \"미로를 찾을 수 없습니다.\"가 나올 수 있도록 만들어보자!\n",
        "\n",
        "---\n",
        "입력값 :\n",
        "\n",
        "```\n",
        "# 5x5 2차원 미로 리스트\n",
        "maze = [\n",
        "    [0, 1, 0, 0, 0],\n",
        "    [0, 0, 0, 1, 0],\n",
        "    [0, 1, 1, 0, 0],\n",
        "    [0, 0, 1, 1, 0],\n",
        "    [0, 0, 0, 0, 0]\n",
        "]\n",
        "```\n",
        "\n",
        "출력값 :"
      ],
      "metadata": {
        "id": "fND7Y-Je9Ehp"
      }
    },
    {
      "cell_type": "code",
      "execution_count": null,
      "metadata": {
        "colab": {
          "base_uri": "https://localhost:8080/"
        },
        "id": "DSn4R-G16H9E",
        "outputId": "18b5ef67-493c-466e-c62a-18345357c904"
      },
      "outputs": [
        {
          "output_type": "stream",
          "name": "stdout",
          "text": [
            "Looking in indexes: https://pypi.org/simple, https://us-python.pkg.dev/colab-wheels/public/simple/\n",
            "Requirement already satisfied: ColabTurtlePlus in /usr/local/lib/python3.10/dist-packages (2.0.1)\n"
          ]
        }
      ],
      "source": [
        "!pip install ColabTurtlePlus"
      ]
    },
    {
      "cell_type": "code",
      "source": [
        "from ColabTurtlePlus.Turtle import *"
      ],
      "metadata": {
        "id": "UQvOQ1Ym6YKZ",
        "colab": {
          "base_uri": "https://localhost:8080/"
        },
        "outputId": "5eab43fa-468b-45ee-cef5-9a3e33be355a"
      },
      "execution_count": null,
      "outputs": [
        {
          "output_type": "stream",
          "name": "stdout",
          "text": [
            "Put clearscreen() as the first line in a cell (after the import command) to re-run turtle commands in the cell\n"
          ]
        }
      ]
    },
    {
      "cell_type": "code",
      "source": [
        "import pprint\n",
        "\n",
        "maze = [\n",
        "    [0, 1, 0, 0, 0],\n",
        "    [0, 0, 0, 1, 0],\n",
        "    [0, 1, 1, 0, 0],\n",
        "    [0, 0, 1, 1, 0],\n",
        "    [0, 0, 0, 0, 0]\n",
        "]\n",
        "\n",
        "turtles()\n",
        "setup(250, 250)\n",
        "clear()\n",
        "goto(x, y)\n",
        "\n",
        "def solve_maze(x, y): \n",
        "  solved_maze = maze\n",
        "  while True:\n",
        "    if 0 <= y < 4 and solved_maze[x][y+1] == 0:\n",
        "      solved_maze[x][y] = 2\n",
        "      y += 1\n",
        "      forward(20)\n",
        "    elif 0 <= x < 4 and solved_maze[x+1][y] == 0:\n",
        "      solved_maze[x][y] = 2\n",
        "      x += 1\n",
        "      right(90)\n",
        "      forward(20)\n",
        "      left(90)\n",
        "    elif 0 < x < 4 and solved_maze[x-1][y] == 0:\n",
        "      solved_maze[x][y] = 2\n",
        "      x -= 1\n",
        "      left(90)\n",
        "      forward(20)\n",
        "      right(90)\n",
        "    elif 0 < y < 4 and solved_maze[x][y-1] == 0:\n",
        "      solved_maze[x][y] = 2\n",
        "      y -= 1\n",
        "      left(180)\n",
        "      forward(20)\n",
        "      right(180)\n",
        "    else:\n",
        "      print(\"미로를 찾을 수 없습니다\")\n",
        "    # pprint.pprint(solve_maze)\n",
        "    # print(x, y)\n",
        "\n",
        "    if x == 4 and y == 4:\n",
        "      solved_maze[x][y] = 2\n",
        "      print(\"미로를 찾았습니다\")\n",
        "      pprint.pprint(solved_maze)\n",
        "      break\n"
      ],
      "metadata": {
        "id": "0o0VtMN-7C2Z",
        "colab": {
          "base_uri": "https://localhost:8080/",
          "height": 270
        },
        "outputId": "effbcad0-a6b0-41bd-af35-c15a24de18b6"
      },
      "execution_count": null,
      "outputs": [
        {
          "output_type": "display_data",
          "data": {
            "text/plain": [
              "<IPython.core.display.HTML object>"
            ],
            "text/html": [
              "\n",
              "      <svg width=\"250\" height=\"250\">  \n",
              "        <rect width=\"100%\" height=\"100%\" style=\"fill:white;stroke:;stroke-width:1\"/>\n",
              "        \n",
              "        \n",
              "        <line x1=\"125.0\" y1=\"125.0\" x2=\"129.00000000035894\" y2=\"120.99999999964106\" stroke-linecap=\"round\" style=\"stroke:black;stroke-width:1\" />\n",
              "        \n",
              "        \n",
              "        <g id=\"classic\" visibility=\"visible\" transform=\"rotate(270.0,129.00000000035894,120.99999999964106) translate(129.00000000035894, 120.99999999964106)\">\n",
              "<polygon points=\"-5,-4.5 0,-2.5 5,-4.5 0,4.5\" transform=\"skewX(0) scale(1,1)\" style=\"stroke:black;fill:black;stroke-width:1\" />\n",
              "</g>\n",
              "      </svg>\n",
              "    "
            ]
          },
          "metadata": {}
        }
      ]
    },
    {
      "cell_type": "code",
      "source": [
        "# 시작 위치에서 미로 찾기 시작\n",
        "start_x, start_y = 0, 0\n",
        "goto(start_x, start_y)\n",
        "solve_maze(start_x, start_y)"
      ],
      "metadata": {
        "colab": {
          "base_uri": "https://localhost:8080/",
          "height": 381
        },
        "id": "XMCm-ZFMQHrP",
        "outputId": "881f5bb3-d282-42ec-cb14-41a7c8b905f5"
      },
      "execution_count": null,
      "outputs": [
        {
          "output_type": "display_data",
          "data": {
            "text/plain": [
              "<IPython.core.display.HTML object>"
            ],
            "text/html": [
              "\n",
              "      <svg width=\"250\" height=\"250\">  \n",
              "        <rect width=\"100%\" height=\"100%\" style=\"fill:white;stroke:;stroke-width:1\"/>\n",
              "        \n",
              "        \n",
              "        <line x1=\"125.0\" y1=\"125.0\" x2=\"129.0\" y2=\"121.0\" stroke-linecap=\"round\" style=\"stroke:black;stroke-width:1\" /><line x1=\"129.0\" y1=\"121.0\" x2=\"125.0\" y2=\"125.0\" stroke-linecap=\"round\" style=\"stroke:black;stroke-width:1\" /><line x1=\"125.0\" y1=\"125.0\" x2=\"125.0\" y2=\"145.0\" stroke-linecap=\"round\" style=\"stroke:black;stroke-width:1\" /><line x1=\"125.0\" y1=\"145.0\" x2=\"145.0\" y2=\"145.0\" stroke-linecap=\"round\" style=\"stroke:black;stroke-width:1\" /><line x1=\"145.0\" y1=\"145.0\" x2=\"165.0\" y2=\"145.0\" stroke-linecap=\"round\" style=\"stroke:black;stroke-width:1\" /><line x1=\"165.0\" y1=\"145.0\" x2=\"165.0\" y2=\"125.0\" stroke-linecap=\"round\" style=\"stroke:black;stroke-width:1\" /><line x1=\"165.0\" y1=\"125.0\" x2=\"185.0\" y2=\"125.0\" stroke-linecap=\"round\" style=\"stroke:black;stroke-width:1\" /><line x1=\"185.0\" y1=\"125.0\" x2=\"205.0\" y2=\"125.0\" stroke-linecap=\"round\" style=\"stroke:black;stroke-width:1\" /><line x1=\"205.0\" y1=\"125.0\" x2=\"205.0\" y2=\"145.0\" stroke-linecap=\"round\" style=\"stroke:black;stroke-width:1\" /><line x1=\"205.0\" y1=\"145.0\" x2=\"205.0\" y2=\"165.0\" stroke-linecap=\"round\" style=\"stroke:black;stroke-width:1\" /><line x1=\"205.0\" y1=\"165.0\" x2=\"205.0\" y2=\"185.0\" stroke-linecap=\"round\" style=\"stroke:black;stroke-width:1\" /><line x1=\"205.0\" y1=\"185.0\" x2=\"205.0\" y2=\"205.0\" stroke-linecap=\"round\" style=\"stroke:black;stroke-width:1\" />\n",
              "        \n",
              "        \n",
              "        <g id=\"classic\" visibility=\"visible\" transform=\"rotate(0,205.0,205.0) translate(205.0, 205.0)\">\n",
              "<polygon points=\"-5,-4.5 0,-2.5 5,-4.5 0,4.5\" transform=\"skewX(0) scale(1,1)\" style=\"stroke:black;fill:black;stroke-width:1\" />\n",
              "<animateTransform id = \"one\" attributeName=\"transform\" \n",
              "                      type=\"scale\"\n",
              "                      from=\"1 1\" to=\"1 1\"\n",
              "                      begin=\"0s\" dur=\"0.01s\"\n",
              "                      repeatCount=\"1\"\n",
              "                      additive=\"sum\"\n",
              "                      fill=\"freeze\"\n",
              "                /><animateTransform attributeName=\"transform\"\n",
              "                    type=\"rotate\"\n",
              "                    from=\"0 0 0\" to =\"-90 0 0\"\n",
              "                    begin=\"one.end\" dur=\"0.25s\"\n",
              "                    repeatCount=\"1\"\n",
              "                    additive=\"sum\"\n",
              "                    fill=\"freeze\"\n",
              "                /></g>\n",
              "      </svg>\n",
              "    "
            ]
          },
          "metadata": {}
        },
        {
          "output_type": "stream",
          "name": "stdout",
          "text": [
            "미로를 찾았습니다\n",
            "[[2, 1, 2, 2, 2],\n",
            " [2, 2, 2, 1, 2],\n",
            " [0, 1, 1, 0, 2],\n",
            " [0, 0, 1, 1, 2],\n",
            " [0, 0, 0, 0, 2]]\n"
          ]
        }
      ]
    },
    {
      "cell_type": "markdown",
      "source": [],
      "metadata": {
        "id": "T1AGT_UYI2Dz"
      }
    }
  ]
}