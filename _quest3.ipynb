{
  "nbformat": 4,
  "nbformat_minor": 0,
  "metadata": {
    "colab": {
      "private_outputs": true,
      "provenance": [],
      "authorship_tag": "ABX9TyMRv6KzR5Npx8DXnbV/P3DU",
      "include_colab_link": true
    },
    "kernelspec": {
      "name": "python3",
      "display_name": "Python 3"
    },
    "language_info": {
      "name": "python"
    }
  },
  "cells": [
    {
      "cell_type": "markdown",
      "metadata": {
        "id": "view-in-github",
        "colab_type": "text"
      },
      "source": [
        "<a href=\"https://colab.research.google.com/github/Dan22dongwon/colab-/blob/main/_quest3.ipynb\" target=\"_parent\"><img src=\"https://colab.research.google.com/assets/colab-badge.svg\" alt=\"Open In Colab\"/></a>"
      ]
    },
    {
      "cell_type": "markdown",
      "source": [
        "[파이썬] 퀘스트: Avengers 2-gram\n",
        "\n",
        "난이도: ★★★☆☆\n",
        "\n",
        "장르: 내장함수 String, Collections, n-gram\n",
        "\n",
        "---\n",
        "* N-gram이란? : https://dojang.io/mod/page/view.php?id=2332\n",
        "\n",
        "다음 조건을 확인하여\n",
        "Avengers Script에서 워드 단위의 2-gram을 구하고, \n",
        "Script에서 가장 빈도가 높은 2-gram 페어를 찾아라!\n",
        "\n",
        "조건:\n",
        "1. 06TheAvengers.txt 파일을 사용한다.\n",
        "2. 모든 문자는 소문자로 변환한다.\n",
        "3. 모든 기호는 제거한 후, 2-gram을 구한다.\n",
        "4. \"I am hungry.....very much...\"를 word 단위로 자르면,[ 'i', 'am', 'hungry', 'very', 'much'] 가 되어야 한다.\n",
        "\n",
        "---\n",
        "\n",
        "입력값 :\n",
        "\n",
        "\"06TheAvengers.txt\" 파일을 입력값으로 넣는다.\n",
        "\n",
        "print(max2gram, countdict[max2gram])\n",
        "print(Counter(baglist))\n",
        "\n",
        "출력값 :\n",
        "\n",
        "('it', 's') 68\n",
        "Counter({('it', 's'): 68, ('i', 'm'): 52, ('don', 't'): 43, ..."
      ],
      "metadata": {
        "id": "T7zL8tVRTN05"
      }
    },
    {
      "cell_type": "markdown",
      "source": [],
      "metadata": {
        "id": "rfhxO7u0e6uz"
      }
    },
    {
      "cell_type": "code",
      "source": [
        "import string\n",
        "\n",
        "file_line = []\n",
        "with open('06TheAvengers.txt', 'r') as file:\n",
        "  for line in file:\n",
        "    temp = line.strip('\\n').casefold()\n",
        "    for i in string.punctuation:\n",
        "      temp = temp.replace(i, ' ')\n",
        "    # temp = temp.translate(str.maketrans('', '', string.punctuation))\n",
        "    # temp = ''.join(filter(lambda x: x not in string.punctuation, temp))\n",
        "    \n",
        "    file_line.append(temp)\n",
        "file_line "
      ],
      "metadata": {
        "id": "U_tU5oAMIvyf"
      },
      "execution_count": null,
      "outputs": []
    },
    {
      "cell_type": "markdown",
      "source": [],
      "metadata": {
        "id": "oXsbwylZTKgz"
      }
    },
    {
      "cell_type": "code",
      "source": [
        "baglist = []\n",
        "for line in file_line:\n",
        "  words = line.split()\n",
        "  for i in range(len(words) - 1):\n",
        "    gram_temp = (words[i], words[i + 1])\n",
        "    baglist.append(gram_temp)\n",
        "baglist"
      ],
      "metadata": {
        "id": "fUIzwHWIJo82"
      },
      "execution_count": null,
      "outputs": []
    },
    {
      "cell_type": "code",
      "source": [
        "from collections import Counter\n",
        "\n",
        "countdict = Counter(baglist)\n",
        "\n",
        "sorted_countdict = sorted(countdict.items(), key=lambda x: x[1], reverse=True)\n",
        "sorted_countdict "
      ],
      "metadata": {
        "id": "ISxL1_WaJvJX"
      },
      "execution_count": null,
      "outputs": []
    },
    {
      "cell_type": "code",
      "source": [],
      "metadata": {
        "id": "jup-q_0eJ1Ql"
      },
      "execution_count": null,
      "outputs": []
    }
  ]
}