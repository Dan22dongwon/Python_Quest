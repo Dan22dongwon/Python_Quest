{
  "nbformat": 4,
  "nbformat_minor": 0,
  "metadata": {
    "colab": {
      "private_outputs": true,
      "provenance": [],
      "authorship_tag": "ABX9TyOe77ufM2+Wy431+W1d5wTj",
      "include_colab_link": true
    },
    "kernelspec": {
      "name": "python3",
      "display_name": "Python 3"
    },
    "language_info": {
      "name": "python"
    }
  },
  "cells": [
    {
      "cell_type": "markdown",
      "metadata": {
        "id": "view-in-github",
        "colab_type": "text"
      },
      "source": [
        "<a href=\"https://colab.research.google.com/github/Dan22dongwon/colab-/blob/main/(%EB%B0%95%EB%8F%99%EC%9B%90)1st_Q_%ED%9A%8C%EB%AC%B8_%ED%8C%90%EB%8F%85%EA%B8%B0.ipynb\" target=\"_parent\"><img src=\"https://colab.research.google.com/assets/colab-badge.svg\" alt=\"Open In Colab\"/></a>"
      ]
    },
    {
      "cell_type": "markdown",
      "source": [
        "\n",
        "\n",
        "> 1 . 퀘스트 ( 코어 )\n",
        "\n",
        "[파이썬] 퀘스트: 회문인지 아닌지 확인하는 프로그램\n",
        "\n",
        "난이도: ★☆☆☆☆\n",
        "\n",
        "장르: 자료형, 제어문, 함수\n",
        "\n",
        "회문이란? : 앞에서부터 읽어도 뒤에서부터 읽어도 같은 단어, 구, 문장, 숫자, 혹은 문단\n",
        "입력값으로 \"우성우\"를 넣었을 때 출력값은 아래와 같이 나와야한다. 다음 조건을 확인하는 회문 함수를 만들어보자!\n",
        "\n",
        "조건 : 단어를 입력받을 수 있게 한다. 입력된 단어를 뒤집어서 출력할 수 있게 한다. 입력된 단어가 회문이 맞는지 확인하여 출력할 수 있게 한다. 자료형, 제어문, 함수를 활용한다.\n",
        "\n",
        "입력값 : 우성우\n",
        "\n",
        "출력값 : 뒤집힌 단어는: 우성우 입력된 단어는 회문입니다.\n",
        "\n"
      ],
      "metadata": {
        "id": "wyCt-7TWrhMl"
      }
    },
    {
      "cell_type": "code",
      "source": [
        "#박동원 회문 판독기\n",
        "word = str(input('회문 판독기\\n단어를 입력해주세요\\n'))\n",
        "a = list(word)\n",
        "b = []\n",
        "for i in range(len(a)):\n",
        "  b.append(a[-1-i])\n",
        "print(b)\n",
        "while i in range(len(a)):\n",
        "    if a[i]!=a[-1-i]:\n",
        "       print('회문이 아닙니다')\n",
        "       break\n",
        "    else:\n",
        "       print('회문이 맞습니다')\n",
        "       break"
      ],
      "metadata": {
        "id": "t2va9OtQeGLK"
      },
      "execution_count": null,
      "outputs": []
    },
    {
      "cell_type": "code",
      "source": [
        "#박기용님 회문 판독\n",
        "word=str(input())\n",
        "a = list(word)\n",
        "b = []\n",
        "for i in range(len(a)):\n",
        "  b.append(a[-1-i])\n",
        "print(b)\n",
        "if a == b:\n",
        "  print (f'뒤집힌 단어는: {word}는 입력된 단어는 회문입니다.')\n",
        "else:\n",
        "  print(f'뒤집힌 단어는: {word}는 입력된 단어는 회문이 아닙니다')"
      ],
      "metadata": {
        "id": "XptUEsRMj5LM"
      },
      "execution_count": null,
      "outputs": []
    },
    {
      "cell_type": "code",
      "source": [],
      "metadata": {
        "id": "0Akuh_Kfr5pW"
      },
      "execution_count": null,
      "outputs": []
    },
    {
      "cell_type": "markdown",
      "source": [],
      "metadata": {
        "id": "Cu66EXQ6PKTo"
      }
    }
  ]
}