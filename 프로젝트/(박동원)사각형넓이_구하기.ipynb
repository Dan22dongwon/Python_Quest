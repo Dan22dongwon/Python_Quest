{
  "nbformat": 4,
  "nbformat_minor": 0,
  "metadata": {
    "colab": {
      "private_outputs": true,
      "provenance": [],
      "authorship_tag": "ABX9TyOp0uO2zgHxkB/AjMCfESay",
      "include_colab_link": true
    },
    "kernelspec": {
      "name": "python3",
      "display_name": "Python 3"
    },
    "language_info": {
      "name": "python"
    }
  },
  "cells": [
    {
      "cell_type": "markdown",
      "metadata": {
        "id": "view-in-github",
        "colab_type": "text"
      },
      "source": [
        "<a href=\"https://colab.research.google.com/github/Dan22dongwon/Python_Quest/blob/main/(%EB%B0%95%EB%8F%99%EC%9B%90)%EC%82%AC%EA%B0%81%ED%98%95%EB%84%93%EC%9D%B4_%EA%B5%AC%ED%95%98%EA%B8%B0.ipynb\" target=\"_parent\"><img src=\"https://colab.research.google.com/assets/colab-badge.svg\" alt=\"Open In Colab\"/></a>"
      ]
    },
    {
      "cell_type": "code",
      "execution_count": null,
      "metadata": {
        "id": "nGr8cYlfL1y9"
      },
      "outputs": [],
      "source": [
        "class Square:\n",
        "    def __init__(self):\n",
        "        square = int(input('넓이를 구하고 싶은 사각형의 숫자를 써주세요.\\n 1.직사각형 2.평행사변형 3.사다리꼴 \\n >>>'))\n",
        "\n",
        "        if square == 1:\n",
        "            print('직사각형 함수는 rect()입니다.')\n",
        "          \n",
        "        elif square == 2:\n",
        "            print('평행사변형 함수는 par()입니다.')\n",
        "        \n",
        "        elif square == 3:\n",
        "            print('사다리꼴 함수는 trape()입니다.')\n",
        "        \n",
        "        else:\n",
        "            print('1, 2, 3 중에서 다시 입력해주세요')\n",
        "\n",
        "    def rect(self):\n",
        "        width, vertical = map(int, input('가로, 세로를 입력하세요. 예시 : 가로,세로\\n >>>').split(','))\n",
        "        area = width * vertical\n",
        "        result = '직사각형의 넓이는 : ' + str(area)\n",
        "        return result\n",
        "\n",
        "    def par(self):\n",
        "        print('평행사변형 함수는 par()입니다.')\n",
        "        s, h = map(int, input('밑변,높이를 입력하세요. 예시 : 밑변,높이\\n >>>').split(','))\n",
        "        area = s*h  # 넓이를 구하는 부분\n",
        "        result = '직사각형의 넓이는 : ' + str(area)\n",
        "        return result\n",
        "\n",
        "    def trape(self):\n",
        "        print('사다리꼴 함수는 trape()입니다.')\n",
        "        밑변,윗변,높이 = map(int, input('밑변, 윗변 , 높이 를 입력하세요. 예시 : 밑변,윗변,높이\\n >>>').split(','))  \n",
        "        area = (밑변+윗변)/2 * 높이  # 넓이를 구하는 부분\n",
        "        result = '직사각형의 넓이는 : ' + str(area)\n",
        "        return result\n",
        "\n",
        "# 객체 생성 & 2, 3을 각각 입력해 봅시다.\n",
        "a = Square()"
      ]
    },
    {
      "cell_type": "code",
      "source": [
        "#직사각형의 넓이\n",
        "a.rect()"
      ],
      "metadata": {
        "id": "VihXGoKMMCy9"
      },
      "execution_count": null,
      "outputs": []
    },
    {
      "cell_type": "code",
      "source": [
        "# 평형사변형의 넓이\n",
        "a.par()  # 3,2를 입력했을 때 넓이가 6이 나와야 합니다."
      ],
      "metadata": {
        "id": "UNauniCUMKc5"
      },
      "execution_count": null,
      "outputs": []
    },
    {
      "cell_type": "code",
      "source": [
        "# 사다리꼴의 넓이\n",
        "a.trape()  # 3,2,1 을 입력했을 때 넓이가 2.5이 나와야 합니다."
      ],
      "metadata": {
        "id": "f-Nf7KDbMMqQ"
      },
      "execution_count": null,
      "outputs": []
    }
  ]
}
