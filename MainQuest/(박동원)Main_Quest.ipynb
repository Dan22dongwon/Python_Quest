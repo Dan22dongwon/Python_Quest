{
  "nbformat": 4,
  "nbformat_minor": 0,
  "metadata": {
    "colab": {
      "private_outputs": true,
      "provenance": [],
      "authorship_tag": "ABX9TyPiKspCTbmj4uMB0e7tOjmH",
      "include_colab_link": true
    },
    "kernelspec": {
      "name": "python3",
      "display_name": "Python 3"
    },
    "language_info": {
      "name": "python"
    }
  },
  "cells": [
    {
      "cell_type": "markdown",
      "metadata": {
        "id": "view-in-github",
        "colab_type": "text"
      },
      "source": [
        "<a href=\"https://colab.research.google.com/github/Dan22dongwon/Python_Quest/blob/main/(%EB%B0%95%EB%8F%99%EC%9B%90)Main_Quest.ipynb\" target=\"_parent\"><img src=\"https://colab.research.google.com/assets/colab-badge.svg\" alt=\"Open In Colab\"/></a>"
      ]
    },
    {
      "cell_type": "markdown",
      "source": [
        "#Q1Account 클래스\n",
        "\n",
        "은행에 가서 계좌를 개설하면 은행이름, 예금주, 계좌번호, 잔액이 설정됩니다. Account 클래스를 생성한 후 생성자(hint:매직매서드..!!)를 구현해보세요. 생성자에서는 예금주와 초기 잔액만 입력 받습니다. 은행이름은 SC은행으로 계좌번호는 3자리-2자리-6자리 형태로 랜덤하게 생성됩니다.\n",
        "```\n",
        "은행이름: SC은행\n",
        "계좌번호: 111-11-111111\n",
        "```"
      ],
      "metadata": {
        "id": "saoB7dAaIrSN"
      }
    },
    {
      "cell_type": "code",
      "source": [
        "# 렌덤 번호 생성 5자리로 나열 \n",
        "# num = random.randint(0, 99)\n",
        "# print(num)\n",
        "# print(str(num).zfill(5))"
      ],
      "metadata": {
        "id": "sA01UHYpV1_U"
      },
      "execution_count": null,
      "outputs": []
    },
    {
      "cell_type": "code",
      "execution_count": null,
      "metadata": {
        "id": "f2cKPa0mFoxV"
      },
      "outputs": [],
      "source": [
        "#계좌 생성\n",
        "import random\n",
        "\n",
        "class Account:\n",
        "  def __init__(self,name, 초기잔액):\n",
        "   self.name = name\n",
        "   self.초기잔액 = 초기잔액\n",
        "   self.은행 = \"SC은행\"\n",
        "   num1= random.randint(0,999)\n",
        "   num2= random.randint(0,99)\n",
        "   num3= random.randint(0,999999)\n",
        "\n",
        "   num1= str(num1).zfill(3)\n",
        "   num2= str(num2).zfill(2)\n",
        "   num3= str(num3).zfill(6)\n",
        "\n",
        "   self.account_number = num1+'-'+num2+'-'+num3\n",
        "\n",
        "\n",
        "print(\"안녕하세요 SC은행 입니다.계좌 생성을 위해 정보를 입력해주세요\")\n",
        "A = input(\"이름을 입력 하세요:\")\n",
        "B = input(\"초기 입금 금액:\")\n",
        "\n",
        "ACN= Account(A,B)\n",
        "print(ACN.name)\n",
        "print(ACN.초기잔액)\n",
        "print(ACN.account_number)"
      ]
    },
    {
      "cell_type": "markdown",
      "source": [
        "#Q2 클래스 변수\n",
        "클래스 변수를 사용해서 Account 클래스로부터 생성된 계좌 객체의 개수를 저장하세요."
      ],
      "metadata": {
        "id": "lwxfR0KMJoVg"
      }
    },
    {
      "cell_type": "code",
      "source": [
        "import random\n",
        "\n",
        "class Account:\n",
        "  계좌계수=0  \n",
        "  def __init__(self,name, 초기잔액):\n",
        "   self.name = name\n",
        "   self.초기잔액 = 초기잔액\n",
        "   self.은행 = \"SC은행\"\n",
        "   num1= random.randint(0,999)\n",
        "   num2= random.randint(0,99)\n",
        "   num3= random.randint(0,999999)\n",
        "\n",
        "   num1= str(num1).zfill(3)\n",
        "   num2= str(num2).zfill(2)\n",
        "   num3= str(num3).zfill(6)\n",
        "\n",
        "   self.account_number = num1+'-'+num2+'-'+num3\n",
        "   \n",
        "   Account.계좌계수 +=1 \n",
        "\n",
        "Dan= Account('동원',0)\n",
        "print(Account.계좌계수)\n",
        "Dan1= Account('d원',0)\n",
        "print(Account.계좌계수)"
      ],
      "metadata": {
        "id": "azf1KOnRJxvd"
      },
      "execution_count": null,
      "outputs": []
    },
    {
      "cell_type": "markdown",
      "source": [
        "# Q3 클래스 변수 출력\n",
        "Account 클래스로부터 생성된 계좌의 개수를 출력하는 get_account_num() 메서드를 추가하세요."
      ],
      "metadata": {
        "id": "yaooC-BILmUt"
      }
    },
    {
      "cell_type": "code",
      "source": [
        "import random\n",
        "\n",
        "class Account:\n",
        "  계좌계수=0  \n",
        "  def __init__(self,name, 초기잔액):\n",
        "   self.name = name\n",
        "   self.초기잔액 = 초기잔액\n",
        "   self.은행 = \"SC은행\"\n",
        "   num1= random.randint(0,999)\n",
        "   num2= random.randint(0,99)\n",
        "   num3= random.randint(0,999999)\n",
        "\n",
        "   num1= str(num1).zfill(3)\n",
        "   num2= str(num2).zfill(2)\n",
        "   num3= str(num3).zfill(6)\n",
        "\n",
        "   self.account_number = num1+'-'+num2+'-'+num3   \n",
        "   Account.계좌계수 +=1 \n",
        " \n",
        "  @classmethod\n",
        "  def get_account_num(cls):\n",
        "     print(cls.계좌계수)\n",
        "\n",
        "\n",
        "Dan= Account('동원',0)\n",
        "Dan1= Account('d원',0)\n",
        "Kim = Account('d',10)\n",
        "Kim.get_account_num()"
      ],
      "metadata": {
        "id": "2u00aLL0LuJL"
      },
      "execution_count": null,
      "outputs": []
    },
    {
      "cell_type": "markdown",
      "source": [
        "# Q4 입금 메서드\n",
        "Account 클래스에 입금을 위한 deposit 메서드를 추가하세요. 입금은 최소 1원 이상만 가능합니다."
      ],
      "metadata": {
        "id": "uy2I8ni_Jyoi"
      }
    },
    {
      "cell_type": "code",
      "source": [
        "import random\n",
        "\n",
        "class Account:\n",
        "  계좌계수=0  \n",
        "  def __init__(self,name, 초기잔액):\n",
        "   self.name = name\n",
        "   self.초기잔액 = 초기잔액\n",
        "   self.은행 = \"SC은행\"\n",
        "   num1= random.randint(0,999)\n",
        "   num2= random.randint(0,99)\n",
        "   num3= random.randint(0,999999)\n",
        "\n",
        "   num1= str(num1).zfill(3)\n",
        "   num2= str(num2).zfill(2)\n",
        "   num3= str(num3).zfill(6)\n",
        "\n",
        "   self.account_number = num1+'-'+num2+'-'+num3   \n",
        "   Account.계좌계수 +=1 \n",
        " \n",
        "  @classmethod\n",
        "  def get_account_num(cls):\n",
        "     print(cls.계좌계수)\n",
        "  \n",
        "  def deposit(self,금액):\n",
        "    if 금액>=1:\n",
        "      self.초기잔액 += 금액\n",
        "    else:\n",
        "      print('입금액은 최소 1원 이상 입니다')"
      ],
      "metadata": {
        "id": "d88QrEKxJyXo"
      },
      "execution_count": null,
      "outputs": []
    },
    {
      "cell_type": "markdown",
      "source": [
        "# Q5 출금 메서드\n",
        "\n",
        "Account 클래스에 출금을 위한 withdraw 메서드를 추가하세요. 출금은 계좌의 잔고 이상으로 출금할 수는 없습니다."
      ],
      "metadata": {
        "id": "f5LjKwlTJ80a"
      }
    },
    {
      "cell_type": "code",
      "source": [
        "import random\n",
        "\n",
        "class Account:\n",
        "  계좌계수=0  \n",
        "  def __init__(self,name, 초기잔액):\n",
        "   self.name = name\n",
        "   self.초기잔액 = 초기잔액\n",
        "   self.은행 = \"SC은행\"\n",
        "   num1= random.randint(0,999)\n",
        "   num2= random.randint(0,99)\n",
        "   num3= random.randint(0,999999)\n",
        "\n",
        "   num1= str(num1).zfill(3)\n",
        "   num2= str(num2).zfill(2)\n",
        "   num3= str(num3).zfill(6)\n",
        "\n",
        "   self.account_number = num1+'-'+num2+'-'+num3   \n",
        "   Account.계좌계수 +=1 \n",
        " \n",
        "  @classmethod\n",
        "  def get_account_num(cls):\n",
        "     print(cls.계좌계수)\n",
        "  \n",
        "  def deposit(self,금액):\n",
        "    if 금액>=1:\n",
        "      self.초기잔액 += 금액\n",
        "    else:\n",
        "      print('입금액은 최소 1원 이상 입니다')\n",
        "\n",
        " def withdraw(self,금액):\n",
        "    if self.초기잔액 > 금액:\n",
        "         self.초기잔액 -= 금액\n",
        " \n"
      ],
      "metadata": {
        "id": "61Cjb2khKIeG"
      },
      "execution_count": null,
      "outputs": []
    },
    {
      "cell_type": "markdown",
      "source": [
        "# Q6정보 출력 메서드\n",
        "\n",
        "Account 인스턴스에 저장된 정보를 출력하는 display_info() 메서드를 추가하세요. 잔고는 세자리마다 쉼표를 출력하세요.\n",
        "```\n",
        "은행이름: SC은행\n",
        "예금주: 파이썬\n",
        "계좌번호: 111-11-111111\n",
        "잔고: 10,000원```"
      ],
      "metadata": {
        "id": "eXEZh7NUKH0P"
      }
    },
    {
      "cell_type": "code",
      "source": [
        "import random\n",
        "\n",
        "class Account:\n",
        "  계좌계수=0  \n",
        "  def __init__(self,name, 초기잔액):\n",
        "   self.name = name\n",
        "   self.초기잔액 = 초기잔액\n",
        "   self.은행 = \"SC은행\"\n",
        "   num1= random.randint(0,999)\n",
        "   num2= random.randint(0,99)\n",
        "   num3= random.randint(0,999999)\n",
        "\n",
        "   num1= str(num1).zfill(3)\n",
        "   num2= str(num2).zfill(2)\n",
        "   num3= str(num3).zfill(6)\n",
        "\n",
        "   self.account_number = num1+'-'+num2+'-'+num3   \n",
        "   Account.계좌계수 +=1 \n",
        " \n",
        "  @classmethod\n",
        "  def get_account_num(cls):\n",
        "     print(cls.계좌계수)\n",
        "  \n",
        "  def deposit(self,금액):\n",
        "    if 금액>=1:\n",
        "      self.초기잔액 += 금액\n",
        "    else:\n",
        "      print('입금액은 최소 1원 이상 입니다')\n",
        "\n",
        "  def withdraw(self,금액):\n",
        "    if self.초기잔액 > 금액:\n",
        "         self.초기잔액 -= 금액\n",
        " \n",
        " \n",
        "  def display_info(self):\n",
        "     print('은행이름:'+self.은행)\n",
        "     print('예금주:'+self.name)\n",
        "     print('계좌번호:'+self.account_number)\n",
        "     print('잔고:'+str(format(self.초기잔액, ',')) +'원')\n",
        "\n",
        "p = Account(\"파이썬\",10000)\n",
        "p.display_info()"
      ],
      "metadata": {
        "id": "Eogei8i73aQL"
      },
      "execution_count": null,
      "outputs": []
    },
    {
      "cell_type": "markdown",
      "source": [
        "# Q7 이자 지급하기\n",
        "\n",
        "입금 횟수가 5회가 될 때 잔고를 기준으로 1%의 이자가 잔고에 추가되도록 코드를 변경해보세요."
      ],
      "metadata": {
        "id": "xWru4QBmKV2v"
      }
    },
    {
      "cell_type": "code",
      "source": [
        "import random\n",
        "\n",
        "class Account:\n",
        "  계좌계수=0  \n",
        "  def __init__(self,name, 초기잔액):\n",
        "    self.입금횟수=0\n",
        "    self.name = name\n",
        "    self.초기잔액 = 초기잔액\n",
        "    self.은행 = \"SC은행\"\n",
        "    num1= random.randint(0,999)\n",
        "    num2= random.randint(0,99)\n",
        "    num3= random.randint(0,999999)\n",
        "\n",
        "    num1= str(num1).zfill(3)\n",
        "    num2= str(num2).zfill(2)\n",
        "    num3= str(num3).zfill(6)\n",
        "\n",
        "    self.account_number = num1+'-'+num2+'-'+num3   \n",
        "    Account.계좌계수 +=1 \n",
        " \n",
        "  @classmethod\n",
        "  def get_account_num(cls):\n",
        "      print(cls.계좌계수)\n",
        "  \n",
        "  def deposit(self,금액):\n",
        "     if 금액>=1:\n",
        "       self.초기잔액 += 금액\n",
        "       self.입금횟수 +=1\n",
        "       if self.입금횟수%5==0:\n",
        "         self.초기잔액 = (self.초기잔액 *1.01)\n",
        "     else:\n",
        "       print('입금액은 최소 1원 이상 입니다')\n",
        "\n",
        "  def withdraw(self,금액):\n",
        "     if self.초기잔액 > 금액:\n",
        "         self.초기잔액 -= 금액\n",
        " \n",
        "  def display_info(self):\n",
        "      print('은행이름:'+self.은행)\n",
        "      print('예금주:'+self.name)\n",
        "      print('계좌번호:'+self.account_number)\n",
        "      print('잔고:'+str(format(self.초기잔액, ',')) +'원')\n",
        "\n",
        "p = Account(\"파이썬\",10000)\n",
        "p.deposit(10000)\n",
        "p.deposit(10000)\n",
        "p.deposit(10000)\n",
        "p.deposit(10000)\n",
        "p.deposit(10000)\n",
        "p.deposit(10000)\n",
        "p.deposit(10000)\n",
        "p.deposit(10000)\n",
        "p.deposit(10000)\n",
        "p.deposit(10000)\n",
        "\n",
        "print(p.초기잔액)"
      ],
      "metadata": {
        "id": "J5OR8NdiKQay"
      },
      "execution_count": null,
      "outputs": []
    },
    {
      "cell_type": "markdown",
      "source": [
        "# Q8여러 객체 생성\n",
        "Account 클래스로부터 3개 이상 인스턴스를 생성하고 생성된 인스턴스를 리스트에 저장해보세요."
      ],
      "metadata": {
        "id": "C91jzuOpKZiu"
      }
    },
    {
      "cell_type": "code",
      "source": [
        "import random\n",
        "\n",
        "class Account:\n",
        "  계좌계수=0  \n",
        "  def __init__(self,name, 초기잔액):\n",
        "    self.입금횟수=0\n",
        "    self.name = name\n",
        "    self.초기잔액 = 초기잔액\n",
        "    self.은행 = \"SC은행\"\n",
        "    num1= random.randint(0,999)\n",
        "    num2= random.randint(0,99)\n",
        "    num3= random.randint(0,999999)\n",
        "\n",
        "    num1= str(num1).zfill(3)\n",
        "    num2= str(num2).zfill(2)\n",
        "    num3= str(num3).zfill(6)\n",
        "\n",
        "    self.account_number = num1+'-'+num2+'-'+num3   \n",
        "    Account.계좌계수 +=1 \n",
        " \n",
        "  @classmethod\n",
        "  def get_account_num(cls):\n",
        "      print(cls.계좌계수)\n",
        "  \n",
        "  def deposit(self,금액):\n",
        "     if 금액>=1:\n",
        "       self.초기잔액 += 금액\n",
        "       self.입금횟수 +=1\n",
        "       if self.입금횟수%5==0:\n",
        "         self.초기잔액 = (self.초기잔액 *1.01)\n",
        "     else:\n",
        "       print('입금액은 최소 1원 이상 입니다')\n",
        "\n",
        "  def withdraw(self,금액):\n",
        "     if self.초기잔액 > 금액:\n",
        "         self.초기잔액 -= 금액\n",
        " \n",
        "  def display_info(self):\n",
        "      print('은행이름:'+self.은행)\n",
        "      print('예금주:'+self.name)\n",
        "      print('계좌번호:'+self.account_number)\n",
        "      print('잔고:'+str(format(self.초기잔액, ',')) +'원')\n",
        "\n",
        "Kontoinhaberen= []\n",
        "A= Account('Dan',1000000)\n",
        "B= Account('Celine',100000)\n",
        "C= Account('Park',100000)\n",
        "Kontoinhaberen.append(A)\n",
        "Kontoinhaberen.append(B)\n",
        "Kontoinhaberen.append(C)\n",
        "\n",
        "print(Kontoinhaberen)"
      ],
      "metadata": {
        "id": "TEmQ9dSkKZ93"
      },
      "execution_count": null,
      "outputs": []
    },
    {
      "cell_type": "markdown",
      "source": [
        "#Q9 객체 순회\n",
        "반복문을 통해 리스트에 있는 객체를 순회하면서 잔고가 100만원 이상인 고객의 정보만 출력하세요."
      ],
      "metadata": {
        "id": "s8XwnUxRKjQp"
      }
    },
    {
      "cell_type": "code",
      "source": [
        "import random\n",
        "\n",
        "class Account:\n",
        "  계좌계수=0  \n",
        "  def __init__(self,name, 초기잔액):\n",
        "    self.입금횟수=0\n",
        "    self.name = name\n",
        "    self.초기잔액 = 초기잔액\n",
        "    self.은행 = \"SC은행\"\n",
        "    num1= random.randint(0,999)\n",
        "    num2= random.randint(0,99)\n",
        "    num3= random.randint(0,999999)\n",
        "\n",
        "    num1= str(num1).zfill(3)\n",
        "    num2= str(num2).zfill(2)\n",
        "    num3= str(num3).zfill(6)\n",
        "\n",
        "    self.account_number = num1+'-'+num2+'-'+num3   \n",
        "    Account.계좌계수 +=1 \n",
        " \n",
        "  @classmethod\n",
        "  def get_account_num(cls):\n",
        "      print(cls.계좌계수)\n",
        "  \n",
        "  def deposit(self,금액):\n",
        "     if 금액>=1:\n",
        "       self.초기잔액 += 금액\n",
        "       self.입금횟수 +=1\n",
        "       if self.입금횟수%5==0:\n",
        "         self.초기잔액 = (self.초기잔액 *1.01)\n",
        "     else:\n",
        "       print('입금액은 최소 1원 이상 입니다')\n",
        "\n",
        "  def withdraw(self,금액):\n",
        "     if self.초기잔액 > 금액:\n",
        "         self.초기잔액 -= 금액\n",
        " \n",
        "  def display_info(self):\n",
        "      print('은행이름:'+self.은행)\n",
        "      print('예금주:'+self.name)\n",
        "      print('계좌번호:'+self.account_number)\n",
        "      print('잔고:'+str(format(self.초기잔액, ',')) +'원')\n",
        "\n",
        "Kontoinhaberen= []\n",
        "A= Account('Dan',10000000)\n",
        "B= Account('Celine',100000000)\n",
        "C= Account('Park',100000)\n",
        "D= Account('Gimmer',100)\n",
        "E= Account('Mueller',100)\n",
        "Kontoinhaberen.append(A)\n",
        "Kontoinhaberen.append(B)\n",
        "Kontoinhaberen.append(C)\n",
        "Kontoinhaberen.append(D)\n",
        "Kontoinhaberen.append(E)\n",
        "\n",
        "for i in Kontoinhaberen:\n",
        "  if i.초기잔액 >= 1000000:\n",
        "    i.display_info()\n"
      ],
      "metadata": {
        "id": "yWICaiMyKjvr"
      },
      "execution_count": null,
      "outputs": []
    },
    {
      "cell_type": "markdown",
      "source": [
        "# MainQuest10. \n",
        "**입출금 내역**\n",
        "\n",
        "입금과 출금 내역이 기록되도록 코드를 업데이트 하세요. 입금 내역과 출금 내역을 출력하는 deposit_history와 withdraw_history 메서드를 추가하세요."
      ],
      "metadata": {
        "id": "IQiLeqA5KmVz"
      }
    },
    {
      "cell_type": "code",
      "source": [
        "import random\n",
        "\n",
        "class Account:\n",
        "  계좌계수=0  \n",
        "  def __init__(self,name, 초기잔액):\n",
        "    self.deposit_records=[]\n",
        "    self.withdraw_records=[]\n",
        "    self.입금횟수=0\n",
        "    self.name = name\n",
        "    self.초기잔액 = 초기잔액\n",
        "    self.은행 = \"SC은행\"\n",
        "    num1= random.randint(0,999)\n",
        "    num2= random.randint(0,99)\n",
        "    num3= random.randint(0,999999)\n",
        "\n",
        "    num1= str(num1).zfill(3)\n",
        "    num2= str(num2).zfill(2)\n",
        "    num3= str(num3).zfill(6)\n",
        "\n",
        "    self.account_number = num1+'-'+num2+'-'+num3   \n",
        "    Account.계좌계수 +=1 \n",
        " \n",
        "  @classmethod\n",
        "  def get_account_num(cls):\n",
        "      print(cls.계좌계수)\n",
        "  \n",
        "  def deposit(self,금액):\n",
        "     if 금액>=1:\n",
        "       self.deposit_records.append(금액)\n",
        "       self.초기잔액 += 금액\n",
        "       self.입금횟수 +=1\n",
        "       \n",
        "       if self.입금횟수%5==0:\n",
        "         self.초기잔액 = (self.초기잔액 *1.01) \n",
        "       \n",
        "     else:\n",
        "       print('입금액은 최소 1원 이상 입니다')\n",
        "  def deposit_history(self):\n",
        "      print(\"입금 내역:\")\n",
        "      for 금액 in self.deposit_records:\n",
        "          print(금액)\n",
        "\n",
        "\n",
        "  def withdraw(self,금액):\n",
        "     if self.초기잔액 > 금액:\n",
        "         self.초기잔액 -= 금액\n",
        "         self.withdraw_records.append(금액)\n",
        "  def withdraw_history(self):\n",
        "        print(\"출금 내역:\")\n",
        "        for 금액 in self.withdraw_records:\n",
        "            print(금액)        \n",
        " \n",
        "  def display_info(self):\n",
        "      print('은행이름:'+self.은행)\n",
        "      print('예금주:'+self.name)\n",
        "      print('계좌번호:'+self.account_number)\n",
        "      print('잔고:'+str(format(self.초기잔액, ',')) +'원')\n",
        "\n",
        "# 확인\n",
        "A = Account(\"Dan\", 1000)\n",
        "A.deposit(1000)\n",
        "A.deposit(200)\n",
        "A.deposit(300)\n",
        "A.deposit_history()\n",
        "\n",
        "A.withdraw(100)\n",
        "A.withdraw(200)\n",
        "A.withdraw_history()   "
      ],
      "metadata": {
        "id": "zQWX5zSQJGRL"
      },
      "execution_count": null,
      "outputs": []
    }
  ]
}
