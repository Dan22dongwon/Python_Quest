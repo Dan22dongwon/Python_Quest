{
  "nbformat": 4,
  "nbformat_minor": 0,
  "metadata": {
    "colab": {
      "private_outputs": true,
      "provenance": [],
      "authorship_tag": "ABX9TyMeXkn7FeGXgz2RiifWL66m",
      "include_colab_link": true
    },
    "kernelspec": {
      "name": "python3",
      "display_name": "Python 3"
    },
    "language_info": {
      "name": "python"
    }
  },
  "cells": [
    {
      "cell_type": "markdown",
      "metadata": {
        "id": "view-in-github",
        "colab_type": "text"
      },
      "source": [
        "<a href=\"https://colab.research.google.com/github/Dan22dongwon/colab-/blob/main/%ED%84%B0%ED%8B%80_2%EC%B0%A8.ipynb\" target=\"_parent\"><img src=\"https://colab.research.google.com/assets/colab-badge.svg\" alt=\"Open In Colab\"/></a>"
      ]
    },
    {
      "cell_type": "code",
      "execution_count": null,
      "metadata": {
        "id": "dNQT_vgy5iZm"
      },
      "outputs": [],
      "source": [
        "!pip install ColabTurtlePlus"
      ]
    },
    {
      "cell_type": "code",
      "source": [
        "from ColabTurtlePlus.Turtle import *"
      ],
      "metadata": {
        "id": "nxmT5bgz8sx_"
      },
      "execution_count": null,
      "outputs": []
    },
    {
      "cell_type": "code",
      "source": [
        "from re import I\n",
        "import pprint\n",
        "\n",
        "maze = [\n",
        "    [0, 1, 0, 0, 0],\n",
        "    [0, 0, 0, 1, 0],\n",
        "    [0, 1, 1, 0, 0],\n",
        "    [0, 0, 1, 1, 0],\n",
        "    [0, 0, 0, 0, 0]\n",
        "]\n",
        "\n",
        "clearscreen()\n",
        "setup(300,300)\n",
        "showborder()\n",
        "color(\"black\", \"green\")\n",
        "shape(\"turtle\")\n",
        "pensize(2)\n",
        "speed(7)\n",
        "begin_fill()\n",
        "\n",
        "\n",
        "def Richtungfinden(a,b): \n",
        "   while True:\n",
        "     if 0<=b<4 and maze[a][b+1]==0:\n",
        "       maze[a][b]=2\n",
        "       b+=1\n",
        "       forward(30)\n",
        "     elif 0<=a<4 and maze[a+1][b]==0:\n",
        "       maze[a][b]=2\n",
        "       a+=1\n",
        "       right(90)\n",
        "       forward(30)\n",
        "     elif 0<b<=4 and maze[a][b-1]==0:\n",
        "         maze[a][b]=2\n",
        "         b-=1\n",
        "         right(180)\n",
        "         forward(30)\n",
        "     elif 0<=b<4 and maze[a-1][b]==0: \n",
        "       maze[a][b]=2 \n",
        "       a-=1\n",
        "       left(90)\n",
        "       forward(30)\n",
        "     else:\n",
        "        print(\"미로를 찾을 수 없습니다\")\n",
        "\n",
        "if x == 4 and y == 4:\n",
        "      Richtungfinden[a][b]\n",
        "      print(\"미로를 찾았습니다\")\n",
        "      pprint.pprint(solved_maze)\n",
        "      break\n",
        "\n",
        "a=b=0\n",
        "Richtungfinden(a,b)\n"
      ],
      "metadata": {
        "id": "j5JKC5BF8xKD"
      },
      "execution_count": null,
      "outputs": []
    },
    {
      "cell_type": "code",
      "source": [],
      "metadata": {
        "id": "3SvmGD5hDmad"
      },
      "execution_count": null,
      "outputs": []
    }
  ]
}