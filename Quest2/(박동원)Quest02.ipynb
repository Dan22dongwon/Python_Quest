{
  "nbformat": 4,
  "nbformat_minor": 0,
  "metadata": {
    "colab": {
      "private_outputs": true,
      "provenance": [],
      "authorship_tag": "ABX9TyOCGTftCxGfrw8maeWR0ahQ",
      "include_colab_link": true
    },
    "kernelspec": {
      "name": "python3",
      "display_name": "Python 3"
    },
    "language_info": {
      "name": "python"
    }
  },
  "cells": [
    {
      "cell_type": "markdown",
      "metadata": {
        "id": "view-in-github",
        "colab_type": "text"
      },
      "source": [
        "<a href=\"https://colab.research.google.com/github/Dan22dongwon/colab-/blob/main/(%EB%B0%95%EB%8F%99%EC%9B%90)Quest02.ipynb\" target=\"_parent\"><img src=\"https://colab.research.google.com/assets/colab-badge.svg\" alt=\"Open In Colab\"/></a>"
      ]
    },
    {
      "cell_type": "markdown",
      "source": [
        "[파이썬] 퀘스트: 거북이 미로찾기\n",
        "\n",
        "난이도: ★★★☆☆\n",
        "\n",
        "장르: ColabTurtlePlus, 함수, 조건문 활용\n",
        "\n",
        "---\n",
        "* 2차원 리스트란? : https://dojang.io/mod/page/view.php?id=2291\n",
        "\n",
        "다음은 ColabTurtle을 사용하여 미로를 찾는 문제다.\n",
        "조건을 확인하여 거북이가 미로를 헤매지 않도록 출구를 찾아주자!\n",
        "\n",
        "조건 :\n",
        "미로는 5x5의 2차원 리스트로 주어져 있다.\n",
        "시작 위치는 (0,0)이고 목적지 위치는 (4,4)이다.\n",
        "터틀은 상하좌우로 움직일 수 있다.\n",
        "미로 내에서 갈 수 있는 길은 0으로 표시되어 있다.\n",
        "터틀이 이미 지나간 길은 2로 표시해야한다.\n",
        "거북이가 미로를 찾아 나가면 \"미로를 찾았습니다.\", \n",
        "미로를 찾을 수 없으면 \"미로를 찾을 수 없습니다.\"가 나올 수 있도록 만들어보자!\n",
        "\n",
        "---\n",
        "입력값 :\n",
        "\n",
        "# 5x5 2차원 미로 리스트\n",
        "maze = [\n",
        "    [0, 1, 0, 0, 0],\n",
        "    [0, 0, 0, 1, 0],\n",
        "    [0, 1, 1, 0, 0],\n",
        "    [0, 0, 1, 1, 0],\n",
        "    [0, 0, 0, 0, 0]\n",
        "]\n",
        "\n",
        "출력값 :"
      ],
      "metadata": {
        "id": "gkCJkCm75oX2"
      }
    },
    {
      "cell_type": "code",
      "source": [
        "pip install ColabTurtlePlus"
      ],
      "metadata": {
        "id": "mqRpeJPFWs4f"
      },
      "execution_count": null,
      "outputs": []
    },
    {
      "cell_type": "markdown",
      "source": [],
      "metadata": {
        "id": "V1r8Jk4lW9Lq"
      }
    },
    {
      "cell_type": "code",
      "source": [
        "from ColabTurtlePlus.Turtle import *"
      ],
      "metadata": {
        "id": "Nz0SOq8vW1ln"
      },
      "execution_count": null,
      "outputs": []
    },
    {
      "cell_type": "code",
      "source": [],
      "metadata": {
        "id": "bgmajHSeXaNT"
      },
      "execution_count": null,
      "outputs": []
    },
    {
      "cell_type": "code",
      "execution_count": null,
      "metadata": {
        "id": "lvFPSNc35gYJ"
      },
      "outputs": [],
      "source": [
        "maze = [ [0, 1, 0, 0, 0], [0, 0, 0, 1, 0], [0, 1, 1, 0, 0], [0, 0, 1, 1, 0], [0, 0, 0, 0, 0] ]\n",
        "\n",
        "start = maze[0][0]\n",
        "finish = maze[4][4]\n",
        "a=0\n",
        "b=0\n",
        "Up = maze[a-1][b]\n",
        "Dw = maze[a+1][b]\n",
        "Rt = maze[a][b-1]\n",
        "Lt = maze[a][b+1]\n",
        "\n",
        "def "
      ]
    },
    {
      "cell_type": "code",
      "source": [
        " while True:\n",
        "   if Dw == 0: \n",
        "      maze[a][b]= 2\n",
        "   elif Up==0:\n",
        "       maze[a][b]=2\n",
        "       print(Up)\n",
        "   elif Rt==0:\n",
        "      maze[a][b]=2\n",
        "      pint(Rt)\n",
        "   elif Lt==0:\n",
        "      maze[a][b]= 2\n",
        "      print(Lt)\n",
        "   else:\n",
        "     print(\"미로를 찾을 수 없습니다.\")\n"
      ],
      "metadata": {
        "id": "2MreOqUKCKKg"
      },
      "execution_count": null,
      "outputs": []
    },
    {
      "cell_type": "code",
      "source": [
        "maze = [ [0, 1, 0, 0, 0], [0, 0, 0, 1, 0], [0, 1, 1, 0, 0], [0, 0, 1, 1, 0], [0, 0, 0, 0, 0] ]\n",
        "\n",
        "start = maze[0][0]\n",
        "finish = maze[4][4]\n",
        "a=0\n",
        "b=0\n",
        "Up = maze[a-1][b]\n",
        "PendingDeprecationWarning = maze[a+1][b]\n",
        "Rt = maze[a][b-1]\n",
        "Lt = maze[a][b+1]\n",
        "maze_solve()\n",
        "\n",
        "def maze_solve():\n",
        "   if Dw == 0: \n",
        "      maze[a][b]= 2\n",
        "   return print(Dw)"
      ],
      "metadata": {
        "id": "EU9AlJT8QKb8"
      },
      "execution_count": null,
      "outputs": []
    },
    {
      "cell_type": "code",
      "source": [
        "import pprint\n",
        "\n",
        "maze = [\n",
        "    [0, 1, 0, 0, 0],\n",
        "    [0, 0, 0, 1, 0],\n",
        "    [0, 1, 1, 0, 0],\n",
        "    [0, 0, 1, 1, 0],\n",
        "    [0, 0, 0, 0, 0]\n",
        "]\n",
        "\n",
        "turtles()\n",
        "setup(250, 250)\n",
        "clear()\n",
        "goto(x, y)\n",
        "\n",
        "def solve_maze(x, y): \n",
        "  solved_maze = maze\n",
        "  while True:\n",
        "    if 0 <= y < 4 and solved_maze[x][y+1] == 0:\n",
        "      solved_maze[x][y] = 2\n",
        "      y += 1\n",
        "      forward(20)\n",
        "    elif 0 <= x < 4 and solved_maze[x+1][y] == 0:\n",
        "      solved_maze[x][y] = 2\n",
        "      x += 1\n",
        "      right(90)\n",
        "      forward(20)\n",
        "      left(90)\n",
        "    elif 0 < x < 4 and solved_maze[x-1][y] == 0:\n",
        "      solved_maze[x][y] = 2\n",
        "      x -= 1\n",
        "      left(90)\n",
        "      forward(20)\n",
        "      right(90)\n",
        "    elif 0 < y < 4 and solved_maze[x][y-1] == 0:\n",
        "      solved_maze[x][y] = 2\n",
        "      y -= 1\n",
        "      left(180)\n",
        "      forward(20)\n",
        "      right(180)\n",
        "    else:\n",
        "      print(\"미로를 찾을 수 없습니다\")\n",
        "    # pprint.pprint(solve_maze)\n",
        "    # print(x, y)\n",
        "\n",
        "    if x == 4 and y == 4:\n",
        "      solved_maze[x][y] = 2\n",
        "      print(\"미로를 찾았습니다\")\n",
        "      pprint.pprint(solved_maze)\n",
        "      break"
      ],
      "metadata": {
        "id": "JSZPhhFpRMBQ"
      },
      "execution_count": null,
      "outputs": []
    },
    {
      "cell_type": "code",
      "source": [
        "# 시작 위치에서 미로 찾기 시작\n",
        "start_x, start_y = 0, 0\n",
        "goto(start_x, start_y)\n",
        "solve_maze(start_x, start_y)"
      ],
      "metadata": {
        "id": "fkxCLZM7eQZI"
      },
      "execution_count": null,
      "outputs": []
    }
  ]
}
